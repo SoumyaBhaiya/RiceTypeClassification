{
 "cells": [
  {
   "cell_type": "code",
   "execution_count": 171,
   "id": "1ad7c7d4",
   "metadata": {},
   "outputs": [],
   "source": [
    "import torch "
   ]
  },
  {
   "cell_type": "code",
   "execution_count": 172,
   "id": "a5935260",
   "metadata": {},
   "outputs": [
    {
     "name": "stdout",
     "output_type": "stream",
     "text": [
      "2.5.1\n",
      "True\n"
     ]
    }
   ],
   "source": [
    "print(torch.__version__)\n",
    "print(torch.cuda.is_available())"
   ]
  },
  {
   "cell_type": "code",
   "execution_count": 173,
   "id": "ad628217",
   "metadata": {},
   "outputs": [],
   "source": [
    "import torch.nn as nn \n",
    "from torch.optim import Adam \n",
    "from torch.utils.data import Dataset, DataLoader\n",
    "from torchsummary import summary \n",
    "from sklearn.model_selection import train_test_split"
   ]
  },
  {
   "cell_type": "code",
   "execution_count": 174,
   "metadata": {},
   "outputs": [],
   "source": [
    "from sklearn.metrics import accuracy_score\n",
    "import matplotlib.pyplot as plt \n",
    "import pandas as pd \n",
    "import numpy as np "
   ]
  },
  {
   "cell_type": "code",
   "execution_count": 175,
   "id": "2c13df27",
   "metadata": {},
   "outputs": [],
   "source": [
    "device = 'cuda' if torch.cuda.is_available else 'cpu' "
   ]
  },
  {
   "cell_type": "code",
   "execution_count": 176,
   "id": "c5950c6d",
   "metadata": {},
   "outputs": [
    {
     "name": "stdout",
     "output_type": "stream",
     "text": [
      "cuda\n"
     ]
    }
   ],
   "source": [
    "print(device)"
   ]
  },
  {
   "cell_type": "code",
   "execution_count": 177,
   "id": "46584f0f",
   "metadata": {},
   "outputs": [],
   "source": [
    "data_df = pd.read_csv(\"riceClassification.csv\")"
   ]
  },
  {
   "cell_type": "code",
   "execution_count": 178,
   "id": "45c50585",
   "metadata": {},
   "outputs": [
    {
     "data": {
      "text/html": [
       "<div>\n",
       "<style scoped>\n",
       "    .dataframe tbody tr th:only-of-type {\n",
       "        vertical-align: middle;\n",
       "    }\n",
       "\n",
       "    .dataframe tbody tr th {\n",
       "        vertical-align: top;\n",
       "    }\n",
       "\n",
       "    .dataframe thead th {\n",
       "        text-align: right;\n",
       "    }\n",
       "</style>\n",
       "<table border=\"1\" class=\"dataframe\">\n",
       "  <thead>\n",
       "    <tr style=\"text-align: right;\">\n",
       "      <th></th>\n",
       "      <th>id</th>\n",
       "      <th>Area</th>\n",
       "      <th>MajorAxisLength</th>\n",
       "      <th>MinorAxisLength</th>\n",
       "      <th>Eccentricity</th>\n",
       "      <th>ConvexArea</th>\n",
       "      <th>EquivDiameter</th>\n",
       "      <th>Extent</th>\n",
       "      <th>Perimeter</th>\n",
       "      <th>Roundness</th>\n",
       "      <th>AspectRation</th>\n",
       "      <th>Class</th>\n",
       "    </tr>\n",
       "  </thead>\n",
       "  <tbody>\n",
       "    <tr>\n",
       "      <th>0</th>\n",
       "      <td>1</td>\n",
       "      <td>4537</td>\n",
       "      <td>92.229316</td>\n",
       "      <td>64.012769</td>\n",
       "      <td>0.719916</td>\n",
       "      <td>4677</td>\n",
       "      <td>76.004525</td>\n",
       "      <td>0.657536</td>\n",
       "      <td>273.085</td>\n",
       "      <td>0.764510</td>\n",
       "      <td>1.440796</td>\n",
       "      <td>1</td>\n",
       "    </tr>\n",
       "    <tr>\n",
       "      <th>1</th>\n",
       "      <td>2</td>\n",
       "      <td>2872</td>\n",
       "      <td>74.691881</td>\n",
       "      <td>51.400454</td>\n",
       "      <td>0.725553</td>\n",
       "      <td>3015</td>\n",
       "      <td>60.471018</td>\n",
       "      <td>0.713009</td>\n",
       "      <td>208.317</td>\n",
       "      <td>0.831658</td>\n",
       "      <td>1.453137</td>\n",
       "      <td>1</td>\n",
       "    </tr>\n",
       "    <tr>\n",
       "      <th>2</th>\n",
       "      <td>3</td>\n",
       "      <td>3048</td>\n",
       "      <td>76.293164</td>\n",
       "      <td>52.043491</td>\n",
       "      <td>0.731211</td>\n",
       "      <td>3132</td>\n",
       "      <td>62.296341</td>\n",
       "      <td>0.759153</td>\n",
       "      <td>210.012</td>\n",
       "      <td>0.868434</td>\n",
       "      <td>1.465950</td>\n",
       "      <td>1</td>\n",
       "    </tr>\n",
       "    <tr>\n",
       "      <th>3</th>\n",
       "      <td>4</td>\n",
       "      <td>3073</td>\n",
       "      <td>77.033628</td>\n",
       "      <td>51.928487</td>\n",
       "      <td>0.738639</td>\n",
       "      <td>3157</td>\n",
       "      <td>62.551300</td>\n",
       "      <td>0.783529</td>\n",
       "      <td>210.657</td>\n",
       "      <td>0.870203</td>\n",
       "      <td>1.483456</td>\n",
       "      <td>1</td>\n",
       "    </tr>\n",
       "    <tr>\n",
       "      <th>4</th>\n",
       "      <td>5</td>\n",
       "      <td>3693</td>\n",
       "      <td>85.124785</td>\n",
       "      <td>56.374021</td>\n",
       "      <td>0.749282</td>\n",
       "      <td>3802</td>\n",
       "      <td>68.571668</td>\n",
       "      <td>0.769375</td>\n",
       "      <td>230.332</td>\n",
       "      <td>0.874743</td>\n",
       "      <td>1.510000</td>\n",
       "      <td>1</td>\n",
       "    </tr>\n",
       "  </tbody>\n",
       "</table>\n",
       "</div>"
      ],
      "text/plain": [
       "   id  Area  MajorAxisLength  MinorAxisLength  Eccentricity  ConvexArea  \\\n",
       "0   1  4537        92.229316        64.012769      0.719916        4677   \n",
       "1   2  2872        74.691881        51.400454      0.725553        3015   \n",
       "2   3  3048        76.293164        52.043491      0.731211        3132   \n",
       "3   4  3073        77.033628        51.928487      0.738639        3157   \n",
       "4   5  3693        85.124785        56.374021      0.749282        3802   \n",
       "\n",
       "   EquivDiameter    Extent  Perimeter  Roundness  AspectRation  Class  \n",
       "0      76.004525  0.657536    273.085   0.764510      1.440796      1  \n",
       "1      60.471018  0.713009    208.317   0.831658      1.453137      1  \n",
       "2      62.296341  0.759153    210.012   0.868434      1.465950      1  \n",
       "3      62.551300  0.783529    210.657   0.870203      1.483456      1  \n",
       "4      68.571668  0.769375    230.332   0.874743      1.510000      1  "
      ]
     },
     "execution_count": 178,
     "metadata": {},
     "output_type": "execute_result"
    }
   ],
   "source": [
    "data_df.head()"
   ]
  },
  {
   "cell_type": "code",
   "execution_count": 179,
   "id": "d403edc2",
   "metadata": {},
   "outputs": [
    {
     "name": "stdout",
     "output_type": "stream",
     "text": [
      "(18185, 11)\n"
     ]
    }
   ],
   "source": [
    "data_df.dropna(inplace=True)\n",
    "data_df.drop(['id'], axis=1, inplace=True)\n",
    "print(data_df.shape)"
   ]
  },
  {
   "cell_type": "code",
   "execution_count": 180,
   "id": "b4994c95",
   "metadata": {},
   "outputs": [
    {
     "name": "stdout",
     "output_type": "stream",
     "text": [
      "Class\n",
      "1    9985\n",
      "0    8200\n",
      "Name: count, dtype: int64\n"
     ]
    }
   ],
   "source": [
    "print(data_df[\"Class\"].value_counts())"
   ]
  },
  {
   "cell_type": "code",
   "execution_count": 181,
   "id": "f0b98315",
   "metadata": {},
   "outputs": [
    {
     "name": "stdout",
     "output_type": "stream",
     "text": [
      "[1 0]\n"
     ]
    }
   ],
   "source": [
    "print(data_df['Class'].unique())"
   ]
  },
  {
   "cell_type": "code",
   "execution_count": 182,
   "id": "5d8a5c61",
   "metadata": {},
   "outputs": [],
   "source": [
    "original_df = data_df.copy()\n",
    "\n",
    "for column in data_df.columns:\n",
    "    data_df[column] = data_df[column]/data_df[column].abs().max()"
   ]
  },
  {
   "cell_type": "code",
   "execution_count": 183,
   "id": "a26c37d7",
   "metadata": {},
   "outputs": [
    {
     "data": {
      "text/html": [
       "<div>\n",
       "<style scoped>\n",
       "    .dataframe tbody tr th:only-of-type {\n",
       "        vertical-align: middle;\n",
       "    }\n",
       "\n",
       "    .dataframe tbody tr th {\n",
       "        vertical-align: top;\n",
       "    }\n",
       "\n",
       "    .dataframe thead th {\n",
       "        text-align: right;\n",
       "    }\n",
       "</style>\n",
       "<table border=\"1\" class=\"dataframe\">\n",
       "  <thead>\n",
       "    <tr style=\"text-align: right;\">\n",
       "      <th></th>\n",
       "      <th>Area</th>\n",
       "      <th>MajorAxisLength</th>\n",
       "      <th>MinorAxisLength</th>\n",
       "      <th>Eccentricity</th>\n",
       "      <th>ConvexArea</th>\n",
       "      <th>EquivDiameter</th>\n",
       "      <th>Extent</th>\n",
       "      <th>Perimeter</th>\n",
       "      <th>Roundness</th>\n",
       "      <th>AspectRation</th>\n",
       "      <th>Class</th>\n",
       "    </tr>\n",
       "  </thead>\n",
       "  <tbody>\n",
       "    <tr>\n",
       "      <th>0</th>\n",
       "      <td>0.444368</td>\n",
       "      <td>0.503404</td>\n",
       "      <td>0.775435</td>\n",
       "      <td>0.744658</td>\n",
       "      <td>0.424873</td>\n",
       "      <td>0.666610</td>\n",
       "      <td>0.741661</td>\n",
       "      <td>0.537029</td>\n",
       "      <td>0.844997</td>\n",
       "      <td>0.368316</td>\n",
       "      <td>1.0</td>\n",
       "    </tr>\n",
       "    <tr>\n",
       "      <th>1</th>\n",
       "      <td>0.281293</td>\n",
       "      <td>0.407681</td>\n",
       "      <td>0.622653</td>\n",
       "      <td>0.750489</td>\n",
       "      <td>0.273892</td>\n",
       "      <td>0.530370</td>\n",
       "      <td>0.804230</td>\n",
       "      <td>0.409661</td>\n",
       "      <td>0.919215</td>\n",
       "      <td>0.371471</td>\n",
       "      <td>1.0</td>\n",
       "    </tr>\n",
       "    <tr>\n",
       "      <th>2</th>\n",
       "      <td>0.298531</td>\n",
       "      <td>0.416421</td>\n",
       "      <td>0.630442</td>\n",
       "      <td>0.756341</td>\n",
       "      <td>0.284520</td>\n",
       "      <td>0.546380</td>\n",
       "      <td>0.856278</td>\n",
       "      <td>0.412994</td>\n",
       "      <td>0.959862</td>\n",
       "      <td>0.374747</td>\n",
       "      <td>1.0</td>\n",
       "    </tr>\n",
       "    <tr>\n",
       "      <th>3</th>\n",
       "      <td>0.300979</td>\n",
       "      <td>0.420463</td>\n",
       "      <td>0.629049</td>\n",
       "      <td>0.764024</td>\n",
       "      <td>0.286791</td>\n",
       "      <td>0.548616</td>\n",
       "      <td>0.883772</td>\n",
       "      <td>0.414262</td>\n",
       "      <td>0.961818</td>\n",
       "      <td>0.379222</td>\n",
       "      <td>1.0</td>\n",
       "    </tr>\n",
       "    <tr>\n",
       "      <th>4</th>\n",
       "      <td>0.361704</td>\n",
       "      <td>0.464626</td>\n",
       "      <td>0.682901</td>\n",
       "      <td>0.775033</td>\n",
       "      <td>0.345385</td>\n",
       "      <td>0.601418</td>\n",
       "      <td>0.867808</td>\n",
       "      <td>0.452954</td>\n",
       "      <td>0.966836</td>\n",
       "      <td>0.386007</td>\n",
       "      <td>1.0</td>\n",
       "    </tr>\n",
       "  </tbody>\n",
       "</table>\n",
       "</div>"
      ],
      "text/plain": [
       "       Area  MajorAxisLength  MinorAxisLength  Eccentricity  ConvexArea  \\\n",
       "0  0.444368         0.503404         0.775435      0.744658    0.424873   \n",
       "1  0.281293         0.407681         0.622653      0.750489    0.273892   \n",
       "2  0.298531         0.416421         0.630442      0.756341    0.284520   \n",
       "3  0.300979         0.420463         0.629049      0.764024    0.286791   \n",
       "4  0.361704         0.464626         0.682901      0.775033    0.345385   \n",
       "\n",
       "   EquivDiameter    Extent  Perimeter  Roundness  AspectRation  Class  \n",
       "0       0.666610  0.741661   0.537029   0.844997      0.368316    1.0  \n",
       "1       0.530370  0.804230   0.409661   0.919215      0.371471    1.0  \n",
       "2       0.546380  0.856278   0.412994   0.959862      0.374747    1.0  \n",
       "3       0.548616  0.883772   0.414262   0.961818      0.379222    1.0  \n",
       "4       0.601418  0.867808   0.452954   0.966836      0.386007    1.0  "
      ]
     },
     "execution_count": 183,
     "metadata": {},
     "output_type": "execute_result"
    }
   ],
   "source": [
    "data_df.head()"
   ]
  },
  {
   "cell_type": "code",
   "execution_count": 184,
   "id": "de6f4021",
   "metadata": {},
   "outputs": [],
   "source": [
    "X = np.array(data_df.iloc[:, :-1])\n",
    "Y = np.array(data_df.iloc[:, -1])"
   ]
  },
  {
   "cell_type": "code",
   "execution_count": 185,
   "id": "5c12c47a",
   "metadata": {},
   "outputs": [],
   "source": [
    "X_train, X_test, y_train, y_test = train_test_split(X, Y, test_size=0.3)"
   ]
  },
  {
   "cell_type": "code",
   "execution_count": 186,
   "id": "e8332313",
   "metadata": {},
   "outputs": [],
   "source": [
    "X_test, X_val, y_test, y_val = train_test_split(X_test, y_test, test_size=0.5)"
   ]
  },
  {
   "cell_type": "code",
   "execution_count": 187,
   "id": "4156a010",
   "metadata": {},
   "outputs": [
    {
     "data": {
      "text/plain": [
       "(12729, 10)"
      ]
     },
     "execution_count": 187,
     "metadata": {},
     "output_type": "execute_result"
    }
   ],
   "source": [
    "X_train.shape"
   ]
  },
  {
   "cell_type": "code",
   "execution_count": 188,
   "id": "c03e47d5",
   "metadata": {},
   "outputs": [
    {
     "data": {
      "text/plain": [
       "(2728, 10)"
      ]
     },
     "execution_count": 188,
     "metadata": {},
     "output_type": "execute_result"
    }
   ],
   "source": [
    "X_val.shape"
   ]
  },
  {
   "cell_type": "code",
   "execution_count": 189,
   "id": "3ba92065",
   "metadata": {},
   "outputs": [],
   "source": [
    "class dataset(Dataset):\n",
    "    def __init__(self, X, Y):\n",
    "        self.X = torch.tensor(X, dtype = torch.float32).to(device)\n",
    "        self.Y = torch.tensor(Y, dtype = torch.float32).to(device)\n",
    "        \n",
    "    def __len__(self):\n",
    "        return len(self.X)\n",
    "    \n",
    "    def __getitem__(self, index):\n",
    "        return self.X[index], self.Y[index]\n",
    "        "
   ]
  },
  {
   "cell_type": "code",
   "execution_count": 190,
   "id": "ac1ab8bd",
   "metadata": {},
   "outputs": [],
   "source": [
    "training_data = dataset(X_train, y_train)\n",
    "validation_data = dataset(X_val, y_val)\n",
    "testing_data = dataset(X_test, y_test)"
   ]
  },
  {
   "cell_type": "code",
   "execution_count": 191,
   "id": "6bb1f8f8",
   "metadata": {},
   "outputs": [],
   "source": [
    "train_dataloader = DataLoader(training_data, batch_size=32, shuffle=True)\n",
    "validation_dataloader = DataLoader(validation_data, batch_size=32, shuffle=True)\n",
    "testing_dataloader = DataLoader(testing_data, batch_size=32, shuffle=True)"
   ]
  },
  {
   "cell_type": "code",
   "execution_count": 192,
   "id": "fed54371",
   "metadata": {},
   "outputs": [
    {
     "name": "stdout",
     "output_type": "stream",
     "text": [
      "tensor([[0.4815, 0.7173, 0.5866, 0.9616, 0.4573, 0.6939, 0.5758, 0.5915, 0.7546,\n",
      "         0.6937],\n",
      "        [0.9472, 0.8835, 0.9305, 0.9105, 0.9034, 0.9732, 0.6972, 0.7758, 0.8630,\n",
      "         0.5387],\n",
      "        [0.6247, 0.8986, 0.6138, 0.9842, 0.6025, 0.7904, 0.5875, 0.7211, 0.6589,\n",
      "         0.8306],\n",
      "        [0.6283, 0.8509, 0.6499, 0.9712, 0.6012, 0.7927, 0.7421, 0.6876, 0.7289,\n",
      "         0.7428],\n",
      "        [0.6475, 0.8877, 0.6410, 0.9781, 0.6201, 0.8047, 0.6590, 0.7127, 0.6991,\n",
      "         0.7857],\n",
      "        [0.8132, 0.8722, 0.8191, 0.9372, 0.7741, 0.9018, 0.6529, 0.7461, 0.8011,\n",
      "         0.6042],\n",
      "        [0.5635, 0.6983, 0.6980, 0.9235, 0.5350, 0.7506, 0.7210, 0.6106, 0.8287,\n",
      "         0.5676],\n",
      "        [0.6779, 0.9462, 0.6267, 0.9872, 0.6464, 0.8233, 0.5464, 0.7530, 0.6557,\n",
      "         0.8566],\n",
      "        [0.5814, 0.8112, 0.6323, 0.9685, 0.5551, 0.7625, 0.5391, 0.6802, 0.6892,\n",
      "         0.7279],\n",
      "        [0.8530, 0.8711, 0.8481, 0.9295, 0.8057, 0.9236, 0.6531, 0.7402, 0.8538,\n",
      "         0.5827],\n",
      "        [0.4978, 0.7799, 0.5635, 0.9780, 0.4766, 0.7056, 0.5475, 0.6195, 0.7114,\n",
      "         0.7852],\n",
      "        [0.8513, 0.8231, 0.8975, 0.9009, 0.8079, 0.9227, 0.6810, 0.7287, 0.8793,\n",
      "         0.5204],\n",
      "        [0.6258, 0.8049, 0.6812, 0.9562, 0.6000, 0.7910, 0.5888, 0.6707, 0.7629,\n",
      "         0.6704],\n",
      "        [0.6594, 0.7242, 0.8041, 0.8956, 0.6346, 0.8120, 0.7976, 0.6526, 0.8489,\n",
      "         0.5110],\n",
      "        [0.7992, 0.7995, 0.8720, 0.9009, 0.7666, 0.8940, 0.8940, 0.7017, 0.8902,\n",
      "         0.5202],\n",
      "        [0.6191, 0.8556, 0.6398, 0.9739, 0.5923, 0.7868, 0.5542, 0.6843, 0.7250,\n",
      "         0.7588],\n",
      "        [0.5477, 0.8415, 0.5733, 0.9844, 0.5646, 0.7401, 0.6800, 0.7751, 0.5000,\n",
      "         0.8327],\n",
      "        [0.7984, 0.8233, 0.8492, 0.9159, 0.7652, 0.8936, 0.6673, 0.7176, 0.8504,\n",
      "         0.5501],\n",
      "        [0.5756, 0.6383, 0.7864, 0.8603, 0.5427, 0.7587, 0.9007, 0.5795, 0.9400,\n",
      "         0.4605],\n",
      "        [0.6643, 0.8888, 0.6524, 0.9761, 0.6305, 0.8151, 0.6032, 0.7089, 0.7250,\n",
      "         0.7729],\n",
      "        [0.6599, 0.7926, 0.7241, 0.9427, 0.6235, 0.8124, 0.6620, 0.6667, 0.8142,\n",
      "         0.6210],\n",
      "        [0.8532, 0.8683, 0.8526, 0.9276, 0.8149, 0.9237, 0.7873, 0.7452, 0.8427,\n",
      "         0.5778],\n",
      "        [0.8420, 0.8530, 0.8606, 0.9213, 0.7964, 0.9176, 0.8129, 0.7319, 0.8621,\n",
      "         0.5624],\n",
      "        [0.4615, 0.6767, 0.5965, 0.9493, 0.4378, 0.6793, 0.6877, 0.5627, 0.7992,\n",
      "         0.6436],\n",
      "        [0.6365, 0.8645, 0.6420, 0.9748, 0.6037, 0.7978, 0.8711, 0.6934, 0.7260,\n",
      "         0.7640],\n",
      "        [0.6320, 0.8681, 0.6384, 0.9759, 0.6027, 0.7950, 0.8973, 0.6940, 0.7197,\n",
      "         0.7715],\n",
      "        [0.8940, 0.8491, 0.9187, 0.9031, 0.8537, 0.9455, 0.6667, 0.7511, 0.8691,\n",
      "         0.5244],\n",
      "        [0.7817, 0.7703, 0.8937, 0.8818, 0.7470, 0.8841, 0.6584, 0.6993, 0.8766,\n",
      "         0.4890],\n",
      "        [0.7983, 0.8214, 0.8438, 0.9169, 0.7515, 0.8935, 0.6567, 0.7054, 0.8799,\n",
      "         0.5523],\n",
      "        [0.9312, 0.9121, 0.8881, 0.9295, 0.8854, 0.9650, 0.7100, 0.7761, 0.8478,\n",
      "         0.5827],\n",
      "        [0.8449, 0.8565, 0.8563, 0.9235, 0.7988, 0.9192, 0.7573, 0.7303, 0.8686,\n",
      "         0.5674],\n",
      "        [0.7773, 0.7895, 0.8639, 0.8999, 0.7357, 0.8816, 0.7619, 0.6956, 0.8811,\n",
      "         0.5185]], device='cuda:0')\n",
      "==============\n",
      "tensor([1., 0., 1., 1., 1., 0., 1., 1., 1., 0., 1., 0., 0., 0., 0., 1., 1., 0.,\n",
      "        0., 1., 0., 0., 0., 1., 1., 1., 0., 0., 0., 0., 0., 0.],\n",
      "       device='cuda:0')\n"
     ]
    }
   ],
   "source": [
    "for x, y in train_dataloader:\n",
    "    print(x)\n",
    "    print(\"==============\")\n",
    "    print(y)\n",
    "    break"
   ]
  },
  {
   "cell_type": "code",
   "execution_count": 193,
   "id": "d2a32421",
   "metadata": {},
   "outputs": [],
   "source": [
    "Hidden_Neurons = 10\n",
    "class MyModel(nn.Module):\n",
    "    def __init__(self):\n",
    "        super(MyModel, self).__init__()\n",
    "        \n",
    "        self.input_layer = nn.Linear(X.shape[1], Hidden_Neurons)\n",
    "        self.linear =  nn.Linear(Hidden_Neurons, 1)\n",
    "        self.sigmoid = nn.Sigmoid()\n",
    "        \n",
    "    def forward(self, x):\n",
    "        x = self.input_layer(x)\n",
    "        x = self.linear(x)\n",
    "        x = self.sigmoid(x)\n",
    "        return x \n",
    "    \n",
    "\n",
    "model = MyModel().to(device)"
   ]
  },
  {
   "cell_type": "code",
   "execution_count": 194,
   "id": "3ade8f64",
   "metadata": {},
   "outputs": [
    {
     "name": "stdout",
     "output_type": "stream",
     "text": [
      "----------------------------------------------------------------\n",
      "        Layer (type)               Output Shape         Param #\n",
      "================================================================\n",
      "            Linear-1                   [-1, 10]             110\n",
      "            Linear-2                    [-1, 1]              11\n",
      "           Sigmoid-3                    [-1, 1]               0\n",
      "================================================================\n",
      "Total params: 121\n",
      "Trainable params: 121\n",
      "Non-trainable params: 0\n",
      "----------------------------------------------------------------\n",
      "Input size (MB): 0.00\n",
      "Forward/backward pass size (MB): 0.00\n",
      "Params size (MB): 0.00\n",
      "Estimated Total Size (MB): 0.00\n",
      "----------------------------------------------------------------\n"
     ]
    }
   ],
   "source": [
    "summary(model, (X.shape[1],))"
   ]
  },
  {
   "cell_type": "code",
   "execution_count": 195,
   "id": "6deb8463",
   "metadata": {},
   "outputs": [],
   "source": [
    "criterion = nn.BCELoss()\n",
    "optimizer = Adam(model.parameters(),lr = 1e-3)"
   ]
  },
  {
   "cell_type": "code",
   "execution_count": 196,
   "id": "14425086",
   "metadata": {},
   "outputs": [
    {
     "name": "stdout",
     "output_type": "stream",
     "text": [
      "Epoch no. 1, Train Loss: 0.253, Train Accuracy 72.8965\n",
      "              Validation Loss: 0.0442 Validation Accuracy: 94.4648\n",
      "*-*-*-*-*-*-*-*-*-*-*-*-*-*-*-*-*-*-*-*-*-*-*-*-*-\n",
      "Epoch no. 2, Train Loss: 0.1436, Train Accuracy 97.4939\n",
      "              Validation Loss: 0.0201 Validation Accuracy: 97.8006\n",
      "*-*-*-*-*-*-*-*-*-*-*-*-*-*-*-*-*-*-*-*-*-*-*-*-*-\n",
      "Epoch no. 3, Train Loss: 0.0674, Train Accuracy 98.3345\n",
      "              Validation Loss: 0.011 Validation Accuracy: 98.0572\n",
      "*-*-*-*-*-*-*-*-*-*-*-*-*-*-*-*-*-*-*-*-*-*-*-*-*-\n",
      "Epoch no. 4, Train Loss: 0.0407, Train Accuracy 98.5388\n",
      "              Validation Loss: 0.0078 Validation Accuracy: 98.0572\n",
      "*-*-*-*-*-*-*-*-*-*-*-*-*-*-*-*-*-*-*-*-*-*-*-*-*-\n",
      "Epoch no. 5, Train Loss: 0.03, Train Accuracy 98.6409\n",
      "              Validation Loss: 0.0062 Validation Accuracy: 98.0572\n",
      "*-*-*-*-*-*-*-*-*-*-*-*-*-*-*-*-*-*-*-*-*-*-*-*-*-\n",
      "Epoch no. 6, Train Loss: 0.0246, Train Accuracy 98.6802\n",
      "              Validation Loss: 0.0058 Validation Accuracy: 98.3138\n",
      "*-*-*-*-*-*-*-*-*-*-*-*-*-*-*-*-*-*-*-*-*-*-*-*-*-\n",
      "Epoch no. 7, Train Loss: 0.0217, Train Accuracy 98.6802\n",
      "              Validation Loss: 0.0049 Validation Accuracy: 98.1672\n",
      "*-*-*-*-*-*-*-*-*-*-*-*-*-*-*-*-*-*-*-*-*-*-*-*-*-\n",
      "Epoch no. 8, Train Loss: 0.0198, Train Accuracy 98.688\n",
      "              Validation Loss: 0.0048 Validation Accuracy: 98.0205\n",
      "*-*-*-*-*-*-*-*-*-*-*-*-*-*-*-*-*-*-*-*-*-*-*-*-*-\n",
      "Epoch no. 9, Train Loss: 0.0184, Train Accuracy 98.7587\n",
      "              Validation Loss: 0.0045 Validation Accuracy: 98.0938\n",
      "*-*-*-*-*-*-*-*-*-*-*-*-*-*-*-*-*-*-*-*-*-*-*-*-*-\n",
      "Epoch no. 10, Train Loss: 0.0177, Train Accuracy 98.7587\n",
      "              Validation Loss: 0.0045 Validation Accuracy: 98.0205\n",
      "*-*-*-*-*-*-*-*-*-*-*-*-*-*-*-*-*-*-*-*-*-*-*-*-*-\n"
     ]
    }
   ],
   "source": [
    "total_loss_train_plot = [] \n",
    "total_loss_valitdation_plot = [] \n",
    "total_accuracy_train_plot = []\n",
    "total_acc_validation_plot = [] \n",
    "\n",
    "epochs = 10 \n",
    "for epoch in range(epochs):\n",
    "    total_acc_train = 0 \n",
    "    total_loss_train = 0\n",
    "    total_acc_val = 0\n",
    "    total_loss_val = 0\n",
    "    \n",
    "    for data in train_dataloader:\n",
    "        inputs, labels = data \n",
    "        \n",
    "        prediction = model(inputs).squeeze(1)\n",
    "    \n",
    "        batch_loss = criterion(prediction, labels)\n",
    "    \n",
    "        total_loss_train += batch_loss.item() \n",
    "    \n",
    "        acc = ((prediction).round() == labels).sum().item()\n",
    "    \n",
    "        total_acc_train += acc \n",
    "    \n",
    "        batch_loss.backward() \n",
    "        optimizer.step()\n",
    "        optimizer.zero_grad()\n",
    "    \n",
    "    with torch.no_grad():\n",
    "        for data in validation_dataloader:\n",
    "            inputs, labels = data \n",
    "            prediction = model(inputs).squeeze(1)\n",
    "            \n",
    "            batch_loss = criterion(prediction, labels )\n",
    "            \n",
    "            total_loss_val += batch_loss.item()\n",
    "            acc = ((prediction).round() == labels).sum().item()\n",
    "            \n",
    "            total_acc_val += acc \n",
    "        \n",
    "        total_loss_train_plot.append(round(total_loss_train/1000, 4))\n",
    "        total_loss_valitdation_plot.append(round(total_loss_val/1000, 4))\n",
    "        total_accuracy_train_plot.append(round(total_acc_train/training_data.__len__() * 100, 4))\n",
    "        total_acc_validation_plot.append(round(total_acc_val/validation_data.__len__() * 100, 4))\n",
    "        \n",
    "        print(f'''Epoch no. {epoch+1}, Train Loss: {round(total_loss_train/1000, 4)}, Train Accuracy {round(total_acc_train/training_data.__len__() * 100, 4)}\n",
    "              Validation Loss: {round(total_loss_val/1000, 4)} Validation Accuracy: {round(total_acc_val/validation_data.__len__() * 100, 4)}''')\n",
    "        \n",
    "        print(\"*-\"*25)\n",
    "    \n",
    "    \n",
    "    \n",
    "    "
   ]
  },
  {
   "cell_type": "code",
   "execution_count": 197,
   "id": "14663f47",
   "metadata": {},
   "outputs": [
    {
     "ename": "ValueError",
     "evalue": "Using a target size (torch.Size([8])) that is different to the input size (torch.Size([32])) is deprecated. Please ensure they have the same size.",
     "output_type": "error",
     "traceback": [
      "\u001b[1;31m---------------------------------------------------------------------------\u001b[0m",
      "\u001b[1;31mValueError\u001b[0m                                Traceback (most recent call last)",
      "Cell \u001b[1;32mIn[197], line 9\u001b[0m\n\u001b[0;32m      5\u001b[0m inputs, label \u001b[38;5;241m=\u001b[39m data \n\u001b[0;32m      7\u001b[0m prediction \u001b[38;5;241m=\u001b[39m model(inputs)\u001b[38;5;241m.\u001b[39msqueeze(\u001b[38;5;241m1\u001b[39m)\n\u001b[1;32m----> 9\u001b[0m batch_loss_test \u001b[38;5;241m=\u001b[39m \u001b[43mcriterion\u001b[49m\u001b[43m(\u001b[49m\u001b[43mprediction\u001b[49m\u001b[43m,\u001b[49m\u001b[43m \u001b[49m\u001b[43mlabels\u001b[49m\u001b[43m)\u001b[49m\u001b[38;5;241m.\u001b[39mitem()\n\u001b[0;32m     11\u001b[0m total_loss_test \u001b[38;5;241m+\u001b[39m\u001b[38;5;241m=\u001b[39m batch_loss_test \n\u001b[0;32m     13\u001b[0m acc \u001b[38;5;241m=\u001b[39m ((prediction)\u001b[38;5;241m.\u001b[39mround() \u001b[38;5;241m==\u001b[39m labels)\u001b[38;5;241m.\u001b[39msum()\u001b[38;5;241m.\u001b[39mitem()\n",
      "File \u001b[1;32mc:\\Users\\soumy\\miniconda3\\envs\\deepLearning\\Lib\\site-packages\\torch\\nn\\modules\\module.py:1736\u001b[0m, in \u001b[0;36mModule._wrapped_call_impl\u001b[1;34m(self, *args, **kwargs)\u001b[0m\n\u001b[0;32m   1734\u001b[0m     \u001b[38;5;28;01mreturn\u001b[39;00m \u001b[38;5;28mself\u001b[39m\u001b[38;5;241m.\u001b[39m_compiled_call_impl(\u001b[38;5;241m*\u001b[39margs, \u001b[38;5;241m*\u001b[39m\u001b[38;5;241m*\u001b[39mkwargs)  \u001b[38;5;66;03m# type: ignore[misc]\u001b[39;00m\n\u001b[0;32m   1735\u001b[0m \u001b[38;5;28;01melse\u001b[39;00m:\n\u001b[1;32m-> 1736\u001b[0m     \u001b[38;5;28;01mreturn\u001b[39;00m \u001b[38;5;28;43mself\u001b[39;49m\u001b[38;5;241;43m.\u001b[39;49m\u001b[43m_call_impl\u001b[49m\u001b[43m(\u001b[49m\u001b[38;5;241;43m*\u001b[39;49m\u001b[43margs\u001b[49m\u001b[43m,\u001b[49m\u001b[43m \u001b[49m\u001b[38;5;241;43m*\u001b[39;49m\u001b[38;5;241;43m*\u001b[39;49m\u001b[43mkwargs\u001b[49m\u001b[43m)\u001b[49m\n",
      "File \u001b[1;32mc:\\Users\\soumy\\miniconda3\\envs\\deepLearning\\Lib\\site-packages\\torch\\nn\\modules\\module.py:1747\u001b[0m, in \u001b[0;36mModule._call_impl\u001b[1;34m(self, *args, **kwargs)\u001b[0m\n\u001b[0;32m   1742\u001b[0m \u001b[38;5;66;03m# If we don't have any hooks, we want to skip the rest of the logic in\u001b[39;00m\n\u001b[0;32m   1743\u001b[0m \u001b[38;5;66;03m# this function, and just call forward.\u001b[39;00m\n\u001b[0;32m   1744\u001b[0m \u001b[38;5;28;01mif\u001b[39;00m \u001b[38;5;129;01mnot\u001b[39;00m (\u001b[38;5;28mself\u001b[39m\u001b[38;5;241m.\u001b[39m_backward_hooks \u001b[38;5;129;01mor\u001b[39;00m \u001b[38;5;28mself\u001b[39m\u001b[38;5;241m.\u001b[39m_backward_pre_hooks \u001b[38;5;129;01mor\u001b[39;00m \u001b[38;5;28mself\u001b[39m\u001b[38;5;241m.\u001b[39m_forward_hooks \u001b[38;5;129;01mor\u001b[39;00m \u001b[38;5;28mself\u001b[39m\u001b[38;5;241m.\u001b[39m_forward_pre_hooks\n\u001b[0;32m   1745\u001b[0m         \u001b[38;5;129;01mor\u001b[39;00m _global_backward_pre_hooks \u001b[38;5;129;01mor\u001b[39;00m _global_backward_hooks\n\u001b[0;32m   1746\u001b[0m         \u001b[38;5;129;01mor\u001b[39;00m _global_forward_hooks \u001b[38;5;129;01mor\u001b[39;00m _global_forward_pre_hooks):\n\u001b[1;32m-> 1747\u001b[0m     \u001b[38;5;28;01mreturn\u001b[39;00m \u001b[43mforward_call\u001b[49m\u001b[43m(\u001b[49m\u001b[38;5;241;43m*\u001b[39;49m\u001b[43margs\u001b[49m\u001b[43m,\u001b[49m\u001b[43m \u001b[49m\u001b[38;5;241;43m*\u001b[39;49m\u001b[38;5;241;43m*\u001b[39;49m\u001b[43mkwargs\u001b[49m\u001b[43m)\u001b[49m\n\u001b[0;32m   1749\u001b[0m result \u001b[38;5;241m=\u001b[39m \u001b[38;5;28;01mNone\u001b[39;00m\n\u001b[0;32m   1750\u001b[0m called_always_called_hooks \u001b[38;5;241m=\u001b[39m \u001b[38;5;28mset\u001b[39m()\n",
      "File \u001b[1;32mc:\\Users\\soumy\\miniconda3\\envs\\deepLearning\\Lib\\site-packages\\torch\\nn\\modules\\loss.py:697\u001b[0m, in \u001b[0;36mBCELoss.forward\u001b[1;34m(self, input, target)\u001b[0m\n\u001b[0;32m    696\u001b[0m \u001b[38;5;28;01mdef\u001b[39;00m\u001b[38;5;250m \u001b[39m\u001b[38;5;21mforward\u001b[39m(\u001b[38;5;28mself\u001b[39m, \u001b[38;5;28minput\u001b[39m: Tensor, target: Tensor) \u001b[38;5;241m-\u001b[39m\u001b[38;5;241m>\u001b[39m Tensor:\n\u001b[1;32m--> 697\u001b[0m     \u001b[38;5;28;01mreturn\u001b[39;00m \u001b[43mF\u001b[49m\u001b[38;5;241;43m.\u001b[39;49m\u001b[43mbinary_cross_entropy\u001b[49m\u001b[43m(\u001b[49m\n\u001b[0;32m    698\u001b[0m \u001b[43m        \u001b[49m\u001b[38;5;28;43minput\u001b[39;49m\u001b[43m,\u001b[49m\u001b[43m \u001b[49m\u001b[43mtarget\u001b[49m\u001b[43m,\u001b[49m\u001b[43m \u001b[49m\u001b[43mweight\u001b[49m\u001b[38;5;241;43m=\u001b[39;49m\u001b[38;5;28;43mself\u001b[39;49m\u001b[38;5;241;43m.\u001b[39;49m\u001b[43mweight\u001b[49m\u001b[43m,\u001b[49m\u001b[43m \u001b[49m\u001b[43mreduction\u001b[49m\u001b[38;5;241;43m=\u001b[39;49m\u001b[38;5;28;43mself\u001b[39;49m\u001b[38;5;241;43m.\u001b[39;49m\u001b[43mreduction\u001b[49m\n\u001b[0;32m    699\u001b[0m \u001b[43m    \u001b[49m\u001b[43m)\u001b[49m\n",
      "File \u001b[1;32mc:\\Users\\soumy\\miniconda3\\envs\\deepLearning\\Lib\\site-packages\\torch\\nn\\functional.py:3545\u001b[0m, in \u001b[0;36mbinary_cross_entropy\u001b[1;34m(input, target, weight, size_average, reduce, reduction)\u001b[0m\n\u001b[0;32m   3543\u001b[0m     reduction_enum \u001b[38;5;241m=\u001b[39m _Reduction\u001b[38;5;241m.\u001b[39mget_enum(reduction)\n\u001b[0;32m   3544\u001b[0m \u001b[38;5;28;01mif\u001b[39;00m target\u001b[38;5;241m.\u001b[39msize() \u001b[38;5;241m!=\u001b[39m \u001b[38;5;28minput\u001b[39m\u001b[38;5;241m.\u001b[39msize():\n\u001b[1;32m-> 3545\u001b[0m     \u001b[38;5;28;01mraise\u001b[39;00m \u001b[38;5;167;01mValueError\u001b[39;00m(\n\u001b[0;32m   3546\u001b[0m         \u001b[38;5;124mf\u001b[39m\u001b[38;5;124m\"\u001b[39m\u001b[38;5;124mUsing a target size (\u001b[39m\u001b[38;5;132;01m{\u001b[39;00mtarget\u001b[38;5;241m.\u001b[39msize()\u001b[38;5;132;01m}\u001b[39;00m\u001b[38;5;124m) that is different to the input size (\u001b[39m\u001b[38;5;132;01m{\u001b[39;00m\u001b[38;5;28minput\u001b[39m\u001b[38;5;241m.\u001b[39msize()\u001b[38;5;132;01m}\u001b[39;00m\u001b[38;5;124m) is deprecated. \u001b[39m\u001b[38;5;124m\"\u001b[39m\n\u001b[0;32m   3547\u001b[0m         \u001b[38;5;124m\"\u001b[39m\u001b[38;5;124mPlease ensure they have the same size.\u001b[39m\u001b[38;5;124m\"\u001b[39m\n\u001b[0;32m   3548\u001b[0m     )\n\u001b[0;32m   3550\u001b[0m \u001b[38;5;28;01mif\u001b[39;00m weight \u001b[38;5;129;01mis\u001b[39;00m \u001b[38;5;129;01mnot\u001b[39;00m \u001b[38;5;28;01mNone\u001b[39;00m:\n\u001b[0;32m   3551\u001b[0m     new_size \u001b[38;5;241m=\u001b[39m _infer_size(target\u001b[38;5;241m.\u001b[39msize(), weight\u001b[38;5;241m.\u001b[39msize())\n",
      "\u001b[1;31mValueError\u001b[0m: Using a target size (torch.Size([8])) that is different to the input size (torch.Size([32])) is deprecated. Please ensure they have the same size."
     ]
    }
   ],
   "source": [
    "with torch.no_grad():\n",
    "    total_loss_test = 0\n",
    "    total_acc_test = 0\n",
    "    for data in testing_dataloader:\n",
    "        inputs, label = data \n",
    "        \n",
    "        prediction = model(inputs).squeeze(1)\n",
    "        \n",
    "        batch_loss_test = criterion(prediction, labels).item()\n",
    "        \n",
    "        total_loss_test += batch_loss_test \n",
    "        \n",
    "        acc = ((prediction).round() == labels).sum().item()\n",
    "        total_acc_test += acc \n",
    "        \n",
    "\n",
    "print(\"Accuracy: \", round(total_acc_test/testing_data.__len__() * 100, 4))"
   ]
  },
  {
   "cell_type": "code",
   "execution_count": 198,
   "id": "c2b39010",
   "metadata": {},
   "outputs": [
    {
     "data": {
      "text/plain": [
       "Text(0, 0.5, 'Loss')"
      ]
     },
     "execution_count": 198,
     "metadata": {},
     "output_type": "execute_result"
    },
    {
     "data": {
      "image/png": "[encoded data removed]",
      "text/plain": [
       "<Figure size 1500x500 with 2 Axes>"
      ]
     },
     "metadata": {},
     "output_type": "display_data"
    }
   ],
   "source": [
    "fig, axs = plt.subplots(nrows= 1, ncols=2, figsize = (15, 5))\n",
    "\n",
    "axs[0].plot(total_loss_train_plot, label = \"Training Loss\")\n",
    "axs[0].plot(total_loss_valitdation_plot, label = \"Validation Loss\")\n",
    "axs[0].set_title(\"Training and Validation loss over epochs\")\n",
    "axs[0].set_xlabel('Epochs')\n",
    "axs[0].set_ylabel('Loss')\n",
    "\n",
    "axs[1].plot(total_accuracy_train_plot, label = \"Training Loss\")\n",
    "axs[1].plot(total_acc_validation_plot, label = \"Validation Loss\")\n",
    "axs[1].set_title(\"Training and Validation loss over epochs\")\n",
    "axs[1].set_xlabel('Epochs')\n",
    "axs[1].set_ylabel('Loss')\n",
    "\n"
   ]
  },
  {
   "cell_type": "code",
   "execution_count": null,
   "id": "a3eecab1",
   "metadata": {},
   "outputs": [],
   "source": []
  },
  {
   "cell_type": "code",
   "execution_count": null,
   "id": "85a5faec",
   "metadata": {},
   "outputs": [],
   "source": []
  },
  {
   "cell_type": "code",
   "execution_count": null,
   "id": "e7e443a7",
   "metadata": {},
   "outputs": [],
   "source": []
  },
  {
   "cell_type": "code",
   "execution_count": null,
   "id": "4a5a4630",
   "metadata": {},
   "outputs": [],
   "source": []
  },
  {
   "cell_type": "code",
   "execution_count": null,
   "id": "31b97943",
   "metadata": {},
   "outputs": [],
   "source": []
  },
  {
   "cell_type": "code",
   "execution_count": null,
   "id": "93556b03",
   "metadata": {},
   "outputs": [],
   "source": []
  },
  {
   "cell_type": "code",
   "execution_count": null,
   "id": "0abb2bb4",
   "metadata": {},
   "outputs": [],
   "source": []
  },
  {
   "cell_type": "code",
   "execution_count": null,
   "id": "0516f57f",
   "metadata": {},
   "outputs": [],
   "source": []
  },
  {
   "cell_type": "code",
   "execution_count": null,
   "id": "a0837660",
   "metadata": {},
   "outputs": [],
   "source": []
  },
  {
   "cell_type": "code",
   "execution_count": null,
   "id": "8f3fdf81",
   "metadata": {},
   "outputs": [],
   "source": []
  },
  {
   "cell_type": "code",
   "execution_count": null,
   "id": "947eb4d7",
   "metadata": {},
   "outputs": [],
   "source": []
  },
  {
   "cell_type": "code",
   "execution_count": null,
   "id": "22a51c64",
   "metadata": {},
   "outputs": [],
   "source": []
  },
  {
   "cell_type": "code",
   "execution_count": null,
   "id": "6d0a5ae7",
   "metadata": {},
   "outputs": [],
   "source": []
  },
  {
   "cell_type": "code",
   "execution_count": null,
   "id": "ac255dfe",
   "metadata": {},
   "outputs": [],
   "source": []
  },
  {
   "cell_type": "code",
   "execution_count": null,
   "id": "c847d619",
   "metadata": {},
   "outputs": [],
   "source": []
  }
 ],
 "metadata": {
  "kernelspec": {
   "display_name": "deepLearning",
   "language": "python",
   "name": "python3"
  },
  "language_info": {
   "codemirror_mode": {
    "name": "ipython",
    "version": 3
   },
   "file_extension": ".py",
   "mimetype": "text/x-python",
   "name": "python",
   "nbconvert_exporter": "python",
   "pygments_lexer": "ipython3",
   "version": "3.12.4"
  }
 },
 "nbformat": 4,
 "nbformat_minor": 5
}
